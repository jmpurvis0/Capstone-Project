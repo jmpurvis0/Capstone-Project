{
 "cells": [
  {
   "cell_type": "markdown",
   "metadata": {},
   "source": [
    "# 🐶 Animal Shelter Data Analysis 🐱\n",
    "\n",
    "This project analyzes animal shelter data by combining two public datasets: data from Louisville Metro Animal Services and from Sonoma County Animal Services. The Analysis portion has \"Questions for Further Study\" that go beyond the scope of this project but are meant for critical thinking and inspiration for further work.\n",
    "\n",
    "## 1. Load and Clean Data\n",
    "\n",
    "First, let’s create dataframes by reading in the two CSV files. We’ll remove columns that won’t be used, and since many of the columns have similar but not identical names, we’ll rename them, too. We’ll also remove rows with blank values."
   ]
  },
  {
   "cell_type": "code",
   "execution_count": null,
   "id": "55851f80-ff32-459a-9a56-6e42132ee79c",
   "metadata": {},
   "outputs": [],
   "source": [
    "import pandas as pd\n",
    "import matplotlib.pyplot as plt\n",
    "from matplotlib.ticker import MaxNLocator\n",
    "\n",
    "\n",
    "lou_df = pd.read_csv('Data\\Louisville_Data.csv')\n",
    "sonoma_df = pd.read_csv('Data\\Sonoma_County_Data.csv')\n",
    "\n",
    "# delete unused columns\n",
    "lou_df = lou_df.drop(columns=['kennel', 'surreason', 'bites', 'sourcezipcode', 'ObjectId'])\n",
    "sonoma_df = sonoma_df.drop(columns=['Name', 'Date Of Birth', 'Impound Number', 'Kennel Number', \n",
    "                        'Intake Condition', 'Outcome Condition', 'Intake Jurisdiction', \n",
    "                        'Outcome Jurisdiction', 'Location', 'Count'])\n",
    "\n",
    "# rename columns so we can merge with Sonoma later\n",
    "lou_df = lou_df.rename(columns={'animaltype': 'Type', 'breed': 'Breed', 'color': 'Color', \n",
    "                                'sex': 'Sex', 'petsize': 'Size', 'animalid': 'Animal ID',\n",
    "                                'indate': 'Intake Date', 'outdate': 'Outcome Date', 'intype': 'Intake Type',\n",
    "                                'insubtype': 'Intake Subtype', 'outtype': 'Outcome Type', 'outsubtype': 'Outcome Subtype',\n",
    "                                'jurisdiction': 'Outcome Zip Code'})\n",
    "\n",
    "# remove rows with blank values\n",
    "lou_df = lou_df.dropna()\n",
    "sonoma_df = sonoma_df.dropna()\n",
    "\n",
    "lou_df.head()\n"
   ]
  },
  {
   "cell_type": "markdown",
   "metadata": {},
   "source": [
    "Next, let’s look at the datatypes for each dataset to make sure they line up with what we need. We’ll start with Louisville’s data."
   ]
  },
  {
   "cell_type": "code",
   "execution_count": null,
   "metadata": {},
   "outputs": [],
   "source": [
    "lou_df.dtypes"
   ]
  },
  {
   "cell_type": "markdown",
   "metadata": {},
   "source": [
    "Everything is currently being treated as an object (text), which is good for most of our data, but not for our date columns. We need to change the *Intake Date* and *Outcome Date* columns to the **datetime** datatype. This will also allow us to create a new *Days in Shelter* column, which the Sonoma dataset already has."
   ]
  },
  {
   "cell_type": "code",
   "execution_count": null,
   "metadata": {},
   "outputs": [],
   "source": [
    "lou_df['Intake Date'] = pd.to_datetime(lou_df['Intake Date'], errors='coerce')\n",
    "lou_df['Outcome Date'] = pd.to_datetime(lou_df['Outcome Date'], errors='coerce')\n",
    "\n",
    "# Creates a new 'Days in Shelter' column by calculating the difference from Outcome Date and Intake Date\n",
    "lou_df['Days in Shelter'] = (lou_df['Outcome Date'] - lou_df['Intake Date']).dt.days\n",
    "\n",
    "lou_df.head()"
   ]
  },
  {
   "cell_type": "markdown",
   "metadata": {},
   "source": [
    "Louisville’s data is looking much better now. Let’s move to Sonoma’s dataset, starting with checking their datatypes."
   ]
  },
  {
   "cell_type": "code",
   "execution_count": null,
   "metadata": {},
   "outputs": [],
   "source": [
    "sonoma_df.dtypes"
   ]
  },
  {
   "cell_type": "markdown",
   "metadata": {},
   "source": [
    "Nearly everything is an object; so, we’ll once again need to convert the date columns to **datetime**. Let’s also change the *Outcome Zip Code* from a float into an **integer** (since zip codes don’t use decimals). Sonoma’s data goes back to 2013, but Louisville’s only goes to 2019. Let’s remove the Sonoma rows that precede 2019 to make the data merge cleaner."
   ]
  },
  {
   "cell_type": "code",
   "execution_count": null,
   "metadata": {},
   "outputs": [],
   "source": [
    "sonoma_df['Intake Date'] = pd.to_datetime(sonoma_df['Intake Date'], errors='coerce')\n",
    "sonoma_df['Outcome Date'] = pd.to_datetime(sonoma_df['Outcome Date'], errors='coerce')\n",
    "sonoma_df['Outcome Zip Code'] = sonoma_df['Outcome Zip Code'].astype('int')\n",
    "\n",
    "# remove rows with dates before 2019 (because Louisville's data only goes back to 2019)\n",
    "sonoma_df = sonoma_df.loc[sonoma_df['Intake Date'] >= pd.to_datetime('2019-01-01')]\n",
    "\n",
    "sonoma_df.head()"
   ]
  },
  {
   "cell_type": "markdown",
   "metadata": {},
   "source": [
    "Speaking of merging, both datasets have items with the same meaning but are written differently (e.g., Louisville says “OTC” while Sonoma says “Over the Counter”). Since Louisville’s data is generally more abbreviated, let’s change Louisville’s items to match Sonoma’s so that it’s more clear and easy to read."
   ]
  },
  {
   "cell_type": "code",
   "execution_count": null,
   "metadata": {},
   "outputs": [],
   "source": [
    "lou_df['Sex'] = lou_df['Sex'].replace({\n",
    "    'M' : 'Male',\n",
    "    'F' : 'Female',\n",
    "    'N' : 'Neutered',\n",
    "    'S' : 'Spayed',\n",
    "    'U' : 'Unknown'\n",
    "    })\n",
    "\n",
    "lou_df['Intake Type'] = lou_df['Intake Type'].replace({\n",
    "    'OWNER SUR' : 'OWNER SURRENDER'\n",
    "})\n",
    "\n",
    "lou_df['Intake Subtype'] = lou_df['Intake Subtype'].replace({\n",
    "    'OTC' : 'OVER THE COUNTER'\n",
    "})\n",
    "\n",
    "lou_df['Outcome Type'] = lou_df['Outcome Type'].replace({\n",
    "    'RTO' : 'RETURN TO OWNER',\n",
    "    'EUTH' : 'EUTHANIZE',\n",
    "})\n",
    "\n",
    "lou_df.head()"
   ]
  },
  {
   "cell_type": "markdown",
   "metadata": {},
   "source": [
    "## 🐦 2. Merge and Analysis 🐇\n",
    "\n",
    "Now we’re ready to merge the data using pandas' **concatenate** function."
   ]
  },
  {
   "cell_type": "code",
   "execution_count": null,
   "metadata": {},
   "outputs": [],
   "source": [
    "df = pd.concat([lou_df, sonoma_df], ignore_index=True)\n",
    "\n",
    "df"
   ]
  },
  {
   "cell_type": "markdown",
   "metadata": {},
   "source": [
    "After all that cleaning, we still have over 41,000 rows of data. But does that mean 41,000 animals were served?"
   ]
  },
  {
   "cell_type": "code",
   "execution_count": null,
   "metadata": {},
   "outputs": [],
   "source": [
    "print(\"Unique animals:\", df['Animal ID'].nunique())"
   ]
  },
  {
   "cell_type": "markdown",
   "metadata": {},
   "source": [
    "By counting the number of unique Animal ID’s, we see that roughly 33,000 animals were actually served. This means that about 8,000 (41,000 - 33,000) appear multiple times in the dataset, meaning they were served more than once.\n",
    "\n",
    "Since we looked at unique animals, let’s look at which animal types and breeds were served the most.\n"
   ]
  },
  {
   "cell_type": "code",
   "execution_count": null,
   "metadata": {},
   "outputs": [],
   "source": [
    "print(df.value_counts('Type').head()) \n",
    "print(df.value_counts('Breed').head())"
   ]
  },
  {
   "cell_type": "markdown",
   "metadata": {},
   "source": [
    "The significant majority were dogs and cats. But although there were more dogs, the most common breed is the Domestic Shorthair cat.\n",
    "\n",
    "For our first visualization, let’s show how many animals were taken in per year by looking at the Intake Date column. To make the comparison easier, let’s create a new Indate Year column that extracts the year from the Intake Date.\n"
   ]
  },
  {
   "cell_type": "code",
   "execution_count": null,
   "metadata": {},
   "outputs": [],
   "source": [
    "df.insert(5, 'Intake Year', pd.to_datetime(df['Intake Date']).dt.year)\n",
    "df.insert(9, 'Outcome Year', pd.to_datetime(df['Outcome Date']).dt.year)\n",
    "\n",
    "df.head()"
   ]
  },
  {
   "cell_type": "markdown",
   "metadata": {},
   "source": [
    "Before making the visualization, we still need to get value counts for each year. Let’s save that as a new dataframe called indate_df. Then, we can make the line plot."
   ]
  },
  {
   "cell_type": "code",
   "execution_count": null,
   "metadata": {},
   "outputs": [],
   "source": [
    "indate_df = df.value_counts('Intake Year').reset_index().sort_values(['Intake Year'])\n",
    "indate_df.columns = ['Year', 'Count']\n",
    "\n",
    "#change X axis to only show integers\n",
    "ax = plt.figure().gca()\n",
    "ax.xaxis.set_major_locator(MaxNLocator(integer=True))\n",
    "\n",
    "plt.plot(indate_df['Year'], indate_df['Count'])\n",
    "plt.xlabel('Year')\n",
    "plt.ylabel('Number of Animals')\n",
    "plt.title('Intakes by Year')\n",
    "plt.show()"
   ]
  },
  {
   "cell_type": "markdown",
   "metadata": {},
   "source": [
    "There was a significant (and understandable) decrease in 2020 due to COVID. The number for 2023 seems lower than expected. Surprisingly, the most recent dates in the data (at the time of creating this study) go to mid-November 2023, meaning that the data–as far as we can tell–is up to date. The difference between 2022 and 2023 looks to be about 2,000.\n",
    "\n",
    "Questions for further study:\n",
    "- Why are numbers lower for 2023? Is there a huge backlog that will be entered before the end of the year? How does animal population affect this data? How does *human* population affect this data?\n",
    "- Should we expect 2024’s numbers to make an incline or continue moving down?\n",
    "\n",
    "---\n",
    "\n",
    "For our second visual, let’s see how long the animals typically stayed by using the Days in Shelter column.\n"
   ]
  },
  {
   "cell_type": "code",
   "execution_count": null,
   "metadata": {},
   "outputs": [],
   "source": [
    "day_shelter_df = df.value_counts('Days in Shelter').reset_index().sort_values(['Days in Shelter'])\n",
    "day_shelter_df.columns = ['Days', 'Count']\n",
    "\n",
    "plt.scatter(day_shelter_df['Days'], day_shelter_df['Count'])\n",
    "plt.rcParams[\"figure.figsize\"] = (20, 3) #makes graph thinner since the default size is too wide\n",
    "plt.axis((0, 20, 0, 9000))\n",
    "plt.xticks(range(0, 20))\n",
    "plt.xlabel('Days in Shelter')\n",
    "plt.ylabel('Number of Animals')\n",
    "plt.title('Number of Animals per Length of Stay')\n",
    "plt.show()"
   ]
  },
  {
   "cell_type": "markdown",
   "metadata": {},
   "source": [
    "The largest group of animals (about 8,500) were taken in and out on the same day (stayed for 0 days). Most of the data follows a pattern: as the number of days increases, the amount of animals staying that long usually decreases. From day 6 onward, the data typically follows a pattern of remaining around the same place for a day or two, and then moving down a bit–stay a bit, move down a bit, and so on.\n",
    "\n",
    "Questions for further study: \n",
    "- Why are most animals taken in and out on the same day: treating minor injuries, receiving shots/vaccinations?\n",
    "- Would most euthanized animals be put in this category?\n",
    "- What other outcomes typically occur on the same day as the intake?\n",
    "\n",
    "---\n",
    "\n",
    "Doing a value count of Intake Type, the significant majority of animals are taken in because they’re stray. What happens to them? Let’s make a visual to show that.\n"
   ]
  },
  {
   "cell_type": "code",
   "execution_count": null,
   "metadata": {},
   "outputs": [],
   "source": [
    "stray_df = df.loc[df['Intake Type'] == 'STRAY']\n",
    "\n",
    "stray_outcomes = stray_df['Outcome Type'].value_counts().reset_index().head()\n",
    "stray_outcomes.columns = ['Outcome Type', 'Count']\n",
    "\n",
    "plt.rcParams[\"figure.figsize\"] = (10, 3)\n",
    "plt.bar(stray_outcomes['Outcome Type'], stray_outcomes['Count'])\n",
    "plt.xlabel('Outcome')\n",
    "plt.ylabel('Number of Animals')\n",
    "plt.title('Outcome for Stray Animals')\n",
    "plt.show()"
   ]
  },
  {
   "cell_type": "markdown",
   "metadata": {},
   "source": [
    "Most stray animals are adopted or returned to their owners. There's some room for faith in humanity after all.\n",
    "\n",
    "Questions for further study: \n",
    "- The third most likely outcome for stray animals is that they’re transferred to another shelter–so what happens to them *after* they're transferred?\n",
    "- Are transferred animals more/less likely to be adopted or returned to owners?\n",
    "- How long does it take for stray animals to be adopted vs. returned to their owners?\n",
    "\n",
    "## 🐈 Conclusion 🐕\n",
    "\n",
    "In this project, I learned how the number of intakes has significantly changed over the past few years. I also learned that most animals at these shelters typically stay for less than 4-5 days. Although we have more work to do in helping these animals, we should pat ourselves on the back for adopting the majority of stray animals or returning them to their owners. 🎉\n",
    "\n",
    "The category I've grown most interested in throughout this project is the transferred animals. I wonder how being transferred affects their well-being, physically as well as mentally and emotionally. Moving to an unfamiliar place with unfamiliar faces can be hard for us humans. Growing up in school, I remember new classmates suddenly materializing in the middle of the school year. They were called \"transfers.\"\n",
    "\n",
    "I imagine transferring for our animal friends is difficult probably for some of the same reasons we humans struggle with it. Do I know anyone here? Will I be okay? Can I be *happy* here?\n",
    "\n",
    "What happens to them after they're transferred? What policies are in place to care for and help them through that adjustment? What research could be done to find the most effective ways of transferring animals and helping them to more likely be adopted? There's plenty of more work to be done. 🙂"
   ]
  }
 ],
 "metadata": {
  "kernelspec": {
   "display_name": "Python 3 (ipykernel)",
   "language": "python",
   "name": "python3"
  },
  "language_info": {
   "codemirror_mode": {
    "name": "ipython",
    "version": 3
   },
   "file_extension": ".py",
   "mimetype": "text/x-python",
   "name": "python",
   "nbconvert_exporter": "python",
   "pygments_lexer": "ipython3",
   "version": "3.11.4"
  }
 },
 "nbformat": 4,
 "nbformat_minor": 5
}
